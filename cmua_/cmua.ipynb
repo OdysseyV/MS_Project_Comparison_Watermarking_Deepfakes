{
 "cells": [
  {
   "cell_type": "markdown",
   "id": "2c46bf71",
   "metadata": {},
   "source": [
    "# CMUA Watermark Testing & Analysis"
   ]
  },
  {
   "cell_type": "code",
   "execution_count": 1,
   "id": "b21eb7c9",
   "metadata": {
    "pycharm": {
     "name": "#%%\n"
    }
   },
   "outputs": [],
   "source": [
    "import torch\n",
    "import os\n",
    "import numpy as np\n",
    "import skimage.io\n",
    "import torch.nn.functional as F\n",
    "import image_transforms\n",
    "import IPython.display\n",
    "from IPython.display import clear_output\n",
    "import PIL.Image\n",
    "from io import BytesIO\n",
    "import matplotlib.pyplot as plt\n",
    "import re\n",
    "from pathlib import Path\n",
    "\n",
    "from zipfile import ZipFile"
   ]
  },
  {
   "cell_type": "markdown",
   "id": "baa07814",
   "metadata": {
    "pycharm": {
     "name": "#%% md\n"
    }
   },
   "source": [
    "# Set Variables"
   ]
  },
  {
   "cell_type": "code",
   "execution_count": null,
   "outputs": [],
   "source": [
    "img_dir = \"sample_images\"\n",
    "working_dir = str(Path.cwd()) \n",
    "img_dir = working_dir + '\\\\sample_images\\\\celeba_data.zip'\n",
    "target_image_dir = \"sample_target_images\"\n",
    "out_dir = \"out_dir\"\n",
    "device = torch.device('cuda' if torch.cuda.is_available() else 'cpu')"
   ],
   "metadata": {
    "collapsed": false,
    "pycharm": {
     "name": "#%%\n"
    }
   }
  },
  {
   "cell_type": "markdown",
   "source": [
    "# Load Models"
   ],
   "metadata": {
    "collapsed": false,
    "pycharm": {
     "name": "#%% md\n"
    }
   }
  },
  {
   "cell_type": "code",
   "execution_count": null,
   "outputs": [],
   "source": [
    "encoder_model = torch.load(\"perturbation.pt\", map_location=torch.device('cpu'))"
   ],
   "metadata": {
    "collapsed": false,
    "pycharm": {
     "name": "#%%\n"
    }
   }
  },
  {
   "cell_type": "code",
   "execution_count": null,
   "outputs": [],
   "source": [
    "def find_image_paths(image_dir):\n",
    "    image_paths = []\n",
    "\n",
    "    if image_dir == \"sample_images\" or image_dir == \"alternate_deepfakes\" or image_dir == \"sample_target_images\":\n",
    "        for img_file in os.listdir(image_dir):\n",
    "            if img_file.endswith(\".png\") or img_file.endswith(\".jpg\"):\n",
    "                image_paths.append(os.path.join(image_dir, img_file))\n",
    "    else:\n",
    "        with ZipFile(img_dir) as zip_archive: \n",
    "            for img_file in zip_archive.filelist:\n",
    "                image_paths.append(os.path.join(image_dir, img_file.filename))\n",
    "    \n",
    "    image_paths.sort()\n",
    "    return image_paths\n",
    "\n",
    "def load_images(image_filepaths, img_size=256):\n",
    "    image_batch_np = []\n",
    "    for file_path in image_filepaths:\n",
    "        image_from_file = skimage.io.imread(file_path)/255.0\n",
    "        \n",
    "        image_from_file = skimage.transform.resize(image_from_file, (300,300),\n",
    "                                                   preserve_range=True, mode='constant')\n",
    "        \n",
    "        image_from_file = image_from_file[:, :, :3]\n",
    "        image_batch_np.append(image_from_file)\n",
    "    image_batch_np = np.stack(image_batch_np, axis=0)\n",
    "    image_batch = torch.from_numpy(image_batch_np).float()\n",
    "    image_batch = image_batch.permute(0, 3, 1, 2)\n",
    "\n",
    "    h, w = image_batch.shape[2:]\n",
    "    if h > w:\n",
    "        image_batch = image_batch[:, :, int((h-w)/2):int((h+w)/2), :]\n",
    "    elif w > h:\n",
    "        image_batch = image_batch[:, :, :, int((w-h)/2):int((w+h)/2)]\n",
    "    image_batch = F.interpolate(image_batch, size=(img_size, img_size), mode='bilinear', align_corners=True)\n",
    "\n",
    "    return image_batch"
   ],
   "metadata": {
    "collapsed": false,
    "pycharm": {
     "name": "#%%\n"
    }
   }
  },
  {
   "cell_type": "code",
   "execution_count": null,
   "outputs": [],
   "source": [
    "def save_images(image_batch, out_dir, prefix=\"\"):\n",
    "    if not os.path.exists(out_dir):\n",
    "        os.makedirs(out_dir)\n",
    "    \n",
    "    image_paths = []\n",
    "    for img_idx in range(image_batch.shape[0]):\n",
    "        image_np = image_batch[img_idx].permute(1, 2, 0).cpu().numpy()\n",
    "        image_np = np.uint8(image_np*255.)\n",
    "        file_path = os.path.join(out_dir, \"{}_{}.png\".format(prefix, img_idx))\n",
    "        PIL.Image.fromarray(image_np).save(file_path)\n",
    "        image_paths.append(file_path)\n",
    "    \n",
    "    return image_paths"
   ],
   "metadata": {
    "collapsed": false,
    "pycharm": {
     "name": "#%%\n"
    }
   }
  },
  {
   "cell_type": "code",
   "execution_count": null,
   "outputs": [],
   "source": [
    "def find_image_paths(image_dir):\n",
    "  \n",
    "    image_paths = []\n",
    "\n",
    "    if image_dir == \"sample_images\" or image_dir == \"alternate_deepfakes\" or image_dir == \"sample_target_images\":\n",
    "        for img_file in os.listdir(image_dir):\n",
    "            if img_file.endswith(\".png\") or img_file.endswith(\".jpg\"):\n",
    "                image_paths.append(os.path.join(image_dir, img_file))\n",
    "    else:\n",
    "        with ZipFile(img_dir) as zip_archive: \n",
    "            for img_file in zip_archive.filelist:\n",
    "                image_paths.append(os.path.join(image_dir, img_file.filename))\n",
    "    \n",
    "    image_paths.sort()\n",
    "    return image_paths"
   ],
   "metadata": {
    "collapsed": false,
    "pycharm": {
     "name": "#%%\n"
    }
   }
  },
  {
   "cell_type": "code",
   "execution_count": null,
   "outputs": [],
   "source": [
    "def showarray(a, fmt='png'):\n",
    "    \"\"\"\n",
    "    takes a numpy array (0 to 1) of size h, w, 3\n",
    "    \"\"\"\n",
    "    a = np.uint8(a*255.)\n",
    "    f = BytesIO()\n",
    "    PIL.Image.fromarray(a).save(f, fmt)\n",
    "    IPython.display.display(IPython.display.Image(data=f.getvalue()))"
   ],
   "metadata": {
    "collapsed": false,
    "pycharm": {
     "name": "#%%\n"
    }
   }
  },
  {
   "cell_type": "markdown",
   "source": [
    "# Load Images"
   ],
   "metadata": {
    "collapsed": false,
    "pycharm": {
     "name": "#%% md\n"
    }
   }
  },
  {
   "cell_type": "code",
   "execution_count": null,
   "outputs": [],
   "source": [
    "original_image_paths = find_image_paths(img_dir)\n",
    "print(len(original_image_paths))\n",
    "original_image_paths = original_image_paths[:50]\n",
    "images = load_images(original_image_paths)\n",
    "\n",
    "images = images.to(device)"
   ],
   "metadata": {
    "collapsed": false,
    "pycharm": {
     "name": "#%%\n"
    }
   }
  },
  {
   "cell_type": "markdown",
   "source": [
    "# Watermark Images"
   ],
   "metadata": {
    "collapsed": false,
    "pycharm": {
     "name": "#%% md\n"
    }
   }
  },
  {
   "cell_type": "code",
   "execution_count": null,
   "outputs": [],
   "source": [
    "import torchvision.utils as vutils\n",
    "\n",
    "i = 0 \n",
    "encoded_images = []\n",
    "#original_image_paths = []\n",
    "with torch.no_grad():\n",
    "    \n",
    "    for img in images:\n",
    "        out_file = './out_dir/signed_images/ ' + '_' + str(i) + '.jpg'       \n",
    "        watermarked_image = img + (0.1 *encoder_model)\n",
    "        encoded_images.append(watermarked_image)\n",
    "        vutils.save_image(watermarked_image,out_file) \n",
    "\n",
    "        i = i + 1      \n",
    "    \n",
    "    signed_image_dir = os.path.join(out_dir, \"signed_images\")\n",
    "    \n",
    "encoded_image_paths = []\n",
    "\n",
    "for root, dirs, files in os.walk(signed_image_dir):\n",
    "    for fileName in files:\n",
    "        encoded_image_paths.append(os.path.join(root, fileName))"
   ],
   "metadata": {
    "collapsed": false,
    "pycharm": {
     "name": "#%%\n"
    }
   }
  },
  {
   "cell_type": "markdown",
   "source": [
    "# Display Watermark"
   ],
   "metadata": {
    "collapsed": false,
    "pycharm": {
     "name": "#%% md\n"
    }
   }
  },
  {
   "cell_type": "code",
   "execution_count": null,
   "outputs": [],
   "source": [
    "original_image_numpy = img.permute(1, 2, 0).cpu().numpy() \n",
    "encoded_image_numpy = watermarked_image.permute(1, 2, 0).cpu().numpy()\n",
    "residual = (encoded_image_numpy - original_image_numpy)\n",
    "rmin, rmax = np.min(residual), np.max(residual)\n",
    "residual_scaled = (residual-rmin)/(rmax - rmin)\n",
    "original_encoded_image = np.concatenate( (original_image_numpy, encoded_image_numpy, residual_scaled), axis=1)\n",
    "print(\"Original Image,\", \"Signed Image,\", \"Perturbation (Scaled for Visualization)\")\n",
    "showarray(original_encoded_image)"
   ],
   "metadata": {
    "collapsed": false,
    "pycharm": {
     "name": "#%%\n"
    }
   }
  },
  {
   "cell_type": "code",
   "execution_count": null,
   "outputs": [],
   "source": [
    "plt.imshow( watermarked_image.permute(1, 2, 0)  )"
   ],
   "metadata": {
    "collapsed": false,
    "pycharm": {
     "name": "#%%\n"
    }
   }
  },
  {
   "cell_type": "code",
   "execution_count": null,
   "outputs": [],
   "source": [
    "encoded_image_paths = []\n",
    "\n",
    "for root, dirs, files in os.walk(signed_image_dir):\n",
    "    for fileName in files:\n",
    "        encoded_image_paths.append(os.path.join(root, fileName))\n",
    "        encoded_image_paths.sort()"
   ],
   "metadata": {
    "collapsed": false,
    "pycharm": {
     "name": "#%%\n"
    }
   }
  },
  {
   "cell_type": "markdown",
   "source": [
    "# Split Dataset in half"
   ],
   "metadata": {
    "collapsed": false,
    "pycharm": {
     "name": "#%% md\n"
    }
   }
  },
  {
   "cell_type": "code",
   "execution_count": null,
   "outputs": [],
   "source": [
    "total_images = len(encoded_image_paths)\n",
    "print('Total Images: ', total_images)\n",
    "\n",
    "half = int(total_images/2)\n",
    "benign_encoded_image_paths = encoded_image_paths[:half]\n",
    "mal_encoded_image_paths = encoded_image_paths[half:]\n",
    "\n",
    "print('Benign Transformations: ', len(benign_encoded_image_paths))\n",
    "print('Malicous Transformations: ', len(mal_encoded_image_paths))"
   ],
   "metadata": {
    "collapsed": false,
    "pycharm": {
     "name": "#%%\n"
    }
   }
  },
  {
   "cell_type": "code",
   "execution_count": null,
   "outputs": [],
   "source": [
    "length = total_images\n",
    "benign = [1] * len(benign_encoded_image_paths)\n",
    "malicous = [0] * len(mal_encoded_image_paths)\n",
    "\n",
    "y_actual = 5*benign + malicous\n",
    "\n",
    "y_pred = []"
   ],
   "metadata": {
    "collapsed": false,
    "pycharm": {
     "name": "#%%\n"
    }
   }
  },
  {
   "cell_type": "markdown",
   "source": [
    "# Make Benign Transformations"
   ],
   "metadata": {
    "collapsed": false,
    "pycharm": {
     "name": "#%% md\n"
    }
   }
  },
  {
   "cell_type": "code",
   "execution_count": null,
   "outputs": [],
   "source": [
    "benign_dir = os.path.join(out_dir, \"benign_transformed_images\")\n",
    "benign_tranform_list, benign_file_paths = image_transforms.apply_benign_transforms(benign_encoded_image_paths, benign_dir)"
   ],
   "metadata": {
    "collapsed": false,
    "pycharm": {
     "name": "#%%\n"
    }
   }
  },
  {
   "cell_type": "markdown",
   "source": [
    "# Calculate Loss"
   ],
   "metadata": {
    "collapsed": false,
    "pycharm": {
     "name": "#%% md\n"
    }
   }
  },
  {
   "cell_type": "code",
   "execution_count": null,
   "outputs": [],
   "source": [
    "l2s_benign_watermarked = []"
   ],
   "metadata": {
    "collapsed": false,
    "pycharm": {
     "name": "#%%\n"
    }
   }
  },
  {
   "cell_type": "code",
   "execution_count": null,
   "outputs": [],
   "source": [
    "for key in benign_file_paths:\n",
    "    \n",
    "    images = benign_file_paths[key]\n",
    "    for b_img in images:           \n",
    "        folder = 'out_dir\\\\signed_images\\\\ _'\n",
    "        split = b_img.split('\\\\')\n",
    "        split2 = re.search(r\"\\d+(\\.\\d+)?\", split[2]).group(0)\n",
    "        img_number = int(split2)\n",
    "        \n",
    "        watermark_img_path = folder + str(img_number) + '.jpg'\n",
    "        \n",
    "        image_from_file = skimage.io.imread(watermark_img_path) / 255.0\n",
    "        image_from_file = skimage.transform.resize(image_from_file, (300, 300),\n",
    "                                               preserve_range=True, mode='constant')\n",
    "        image_from_file = image_from_file[:, :, :3]\n",
    "        watermarked_image = torch.tensor(image_from_file).float()\n",
    "\n",
    "        \n",
    "        image_from_file = skimage.io.imread(b_img) / 255.0\n",
    "        image_from_file = skimage.transform.resize(image_from_file, (300, 300),\n",
    "                                               preserve_range=True, mode='constant')\n",
    "        image_from_file = image_from_file[:, :, :3]\n",
    "        benign_img = torch.from_numpy(image_from_file).float()\n",
    "\n",
    "        l2_error = F.mse_loss(watermarked_image, benign_img)\n",
    "        l2s_benign_watermarked.append(l2_error)\n",
    "        \n",
    "        if (l2_error < 0.05):\n",
    "            y_pred.append(1)\n",
    "        else: \n",
    "            y_pred.append(0)\n",
    "            print('\\t identified as malcious', l2_error)\n",
    "            print(\"\\t watermark: \", watermark_img_path)\n",
    "            print(\"\\t benign: \", b_img)"
   ],
   "metadata": {
    "collapsed": false,
    "pycharm": {
     "name": "#%%\n"
    }
   }
  },
  {
   "cell_type": "code",
   "execution_count": null,
   "outputs": [],
   "source": [
    "for key in benign_file_paths:\n",
    "    images = benign_file_paths[key]\n",
    "    if key != 'None':\n",
    "        for img in images[:1]:   \n",
    "            IPython.display.display(IPython.display.Image(img))\n",
    "            print(\"Transform : {}\".format(key))"
   ],
   "metadata": {
    "collapsed": false,
    "pycharm": {
     "name": "#%%\n"
    }
   }
  },
  {
   "cell_type": "markdown",
   "source": [
    "# Make Malicious Transformations"
   ],
   "metadata": {
    "collapsed": false,
    "pycharm": {
     "name": "#%% md\n"
    }
   }
  },
  {
   "cell_type": "code",
   "execution_count": null,
   "outputs": [],
   "source": [
    "mal_dir = os.path.join(out_dir, \"mal_transformed_images\")\n",
    "target_image_paths = find_image_paths(target_image_dir)"
   ],
   "metadata": {
    "collapsed": false,
    "pycharm": {
     "name": "#%%\n"
    }
   }
  },
  {
   "cell_type": "code",
   "execution_count": null,
   "outputs": [],
   "source": [
    "unable_to_malicously_swap, mal_tranform_list, mal_file_paths, watermarked_l2s, mal_encoded_image_paths= image_transforms.apply_malicious_transforms(\n",
    "    mal_encoded_image_paths, target_image_paths[1:2], mal_dir)"
   ],
   "metadata": {
    "collapsed": false,
    "pycharm": {
     "name": "#%%\n"
    }
   }
  },
  {
   "cell_type": "code",
   "execution_count": null,
   "outputs": [],
   "source": [
    "len(unable_to_malicously_swap)"
   ],
   "metadata": {
    "collapsed": false,
    "pycharm": {
     "name": "#%%\n"
    }
   }
  },
  {
   "cell_type": "code",
   "execution_count": null,
   "outputs": [],
   "source": [
    "np.array(watermarked_l2s)"
   ],
   "metadata": {
    "collapsed": false,
    "pycharm": {
     "name": "#%%\n"
    }
   }
  },
  {
   "cell_type": "code",
   "execution_count": null,
   "outputs": [],
   "source": [
    "print(len(unable_to_malicously_swap))"
   ],
   "metadata": {
    "collapsed": false,
    "pycharm": {
     "name": "#%%\n"
    }
   }
  },
  {
   "cell_type": "markdown",
   "source": [
    "### Calculate Loss"
   ],
   "metadata": {
    "collapsed": false,
    "pycharm": {
     "name": "#%% md\n"
    }
   }
  },
  {
   "cell_type": "code",
   "execution_count": null,
   "outputs": [],
   "source": [
    "for l2_error in watermarked_l2s: \n",
    "    if (l2_error < 0.05):\n",
    "            y_pred.append(1)\n",
    "    else: \n",
    "        y_pred.append(0)\n",
    "        print(L2)"
   ],
   "metadata": {
    "collapsed": false,
    "pycharm": {
     "name": "#%%\n"
    }
   }
  },
  {
   "cell_type": "code",
   "execution_count": null,
   "outputs": [],
   "source": [
    "# Adjust length to the images that were able to be swapped. \n",
    "if(unable_to_malicously_swap): \n",
    "    l = len(y_actual) - len(unable_to_malicously_swap) \n",
    "    y_actual = y_actual[:l]"
   ],
   "metadata": {
    "collapsed": false,
    "pycharm": {
     "name": "#%%\n"
    }
   }
  },
  {
   "cell_type": "markdown",
   "source": [
    "# Display FaceApp Malicous Change"
   ],
   "metadata": {
    "collapsed": false,
    "pycharm": {
     "name": "#%% md\n"
    }
   }
  },
  {
   "cell_type": "code",
   "execution_count": null,
   "outputs": [],
   "source": [
    "for key in mal_tranform_list:\n",
    "    print(key)\n",
    "    paths = mal_file_paths[key]\n",
    "    for path in paths[:1]: \n",
    "        IPython.display.display(IPython.display.Image(path))"
   ],
   "metadata": {
    "collapsed": false,
    "pycharm": {
     "name": "#%%\n"
    }
   }
  },
  {
   "cell_type": "markdown",
   "source": [
    "# Analyze Watermark Method"
   ],
   "metadata": {
    "collapsed": false,
    "pycharm": {
     "name": "#%% md\n"
    }
   }
  },
  {
   "cell_type": "code",
   "execution_count": null,
   "outputs": [],
   "source": [
    "assert(len(y_pred) == len(y_actual))"
   ],
   "metadata": {
    "collapsed": false,
    "pycharm": {
     "name": "#%%\n"
    }
   }
  },
  {
   "cell_type": "code",
   "execution_count": null,
   "outputs": [],
   "source": [
    "pred = y_pred \n",
    "actual = y_actual"
   ],
   "metadata": {
    "collapsed": false,
    "pycharm": {
     "name": "#%%\n"
    }
   }
  },
  {
   "cell_type": "markdown",
   "source": [
    "## AUC"
   ],
   "metadata": {
    "collapsed": false,
    "pycharm": {
     "name": "#%% md\n"
    }
   }
  },
  {
   "cell_type": "code",
   "execution_count": null,
   "outputs": [],
   "source": [
    "import numpy as np\n",
    "from sklearn import metrics\n",
    "\n",
    "pred = y_pred\n",
    "actual = y_actual \n",
    "\n",
    "auc = metrics.roc_auc_score(actual, pred)\n",
    "auc"
   ],
   "metadata": {
    "collapsed": false,
    "pycharm": {
     "name": "#%%\n"
    }
   }
  },
  {
   "cell_type": "markdown",
   "source": [
    "### Confusion Matrix"
   ],
   "metadata": {
    "collapsed": false,
    "pycharm": {
     "name": "#%% md\n"
    }
   }
  },
  {
   "cell_type": "code",
   "execution_count": null,
   "outputs": [],
   "source": [
    "import matplotlib.pyplot as plt\n",
    "\n",
    "import numpy as np \n",
    "from sklearn import metrics \n",
    "\n",
    "confusion_matrix = metrics.confusion_matrix(actual, pred)\n",
    "cm_display = metrics.ConfusionMatrixDisplay(confusion_matrix = confusion_matrix) #, display_labels = [False, True]\n",
    "cm_display.plot()\n",
    "plt.show()"
   ],
   "metadata": {
    "collapsed": false,
    "pycharm": {
     "name": "#%%\n"
    }
   }
  },
  {
   "cell_type": "markdown",
   "source": [
    "# Calculate L2 Loss\n",
    "Calculate L2 Loss for original images and deepfake"
   ],
   "metadata": {
    "collapsed": false,
    "pycharm": {
     "name": "#%% md\n"
    }
   }
  },
  {
   "cell_type": "code",
   "execution_count": null,
   "outputs": [],
   "source": [
    "new_original_image_paths = []\n",
    "\n",
    "length_num = [0] * 6\n",
    "s = ''\n",
    "for num in length_num: \n",
    "    s = s + str(num)\n",
    "    \n",
    "for x in original_image_paths: \n",
    "    split = x.split('\\\\')\n",
    "    split2 = re.search(r\"\\d+(\\.\\d+)?\", split[9]).group(0)\n",
    "    img_number = int(split2)\n",
    "    \n",
    "    leading_zeroes = 0 - len(str(img_number))\n",
    "    str_img_num =  s[:leading_zeroes] + str(img_number)\n",
    "       \n",
    "    fn = '\\\\sample_images\\\\celeba_data.zip\\\\img_align_celeba/img_align_celeba/' + str_img_num + '.jpg'\n",
    "    folder = str(Path.cwd()) + fn\n",
    "    new_original_image_paths.append(folder)\n"
   ],
   "metadata": {
    "collapsed": false,
    "pycharm": {
     "name": "#%%\n"
    }
   }
  },
  {
   "cell_type": "code",
   "execution_count": null,
   "outputs": [],
   "source": [
    "w_watermark = mal_encoded_image_paths\n",
    "w_o_watermark = new_original_image_paths"
   ],
   "metadata": {
    "collapsed": false,
    "pycharm": {
     "name": "#%%\n"
    }
   }
  },
  {
   "cell_type": "code",
   "execution_count": null,
   "outputs": [],
   "source": [
    "org_images = load_images(w_o_watermark)"
   ],
   "metadata": {
    "collapsed": false,
    "pycharm": {
     "name": "#%%\n"
    }
   }
  },
  {
   "cell_type": "markdown",
   "source": [
    "## Malicously swap original, non-watermarked images"
   ],
   "metadata": {
    "collapsed": false,
    "pycharm": {
     "name": "#%% md\n"
    }
   }
  },
  {
   "cell_type": "code",
   "execution_count": null,
   "outputs": [],
   "source": [
    "i = 0 \n",
    "original_images = []\n",
    "with torch.no_grad():\n",
    "    \n",
    "    for img in org_images:\n",
    "        out_file = './out_dir/original_images/ ' + '_' + str(i) + '.jpg'\n",
    "        original_images.append(img)\n",
    "        vutils.save_image(img,out_file) \n",
    "        i = i + 1      \n",
    "    \n",
    "    original_image_dir = os.path.join(out_dir, \"original_images\")\n",
    "    \n",
    "original_image_paths_ = []\n",
    "\n",
    "for root, dirs, files in os.walk(original_image_dir):\n",
    "    for fileName in files:\n",
    "        original_image_paths_.append(os.path.join(root, fileName))"
   ],
   "metadata": {
    "collapsed": false,
    "pycharm": {
     "name": "#%%\n"
    }
   }
  },
  {
   "cell_type": "code",
   "execution_count": null,
   "outputs": [],
   "source": [
    "unable_to_malicously_swap, mal_tranform_list, mal_file_paths, original_l2s, null = image_transforms.apply_malicious_transforms(\n",
    "    original_image_paths_, target_image_paths[1:2], mal_dir)"
   ],
   "metadata": {
    "collapsed": false,
    "pycharm": {
     "name": "#%%\n"
    }
   }
  },
  {
   "cell_type": "code",
   "execution_count": null,
   "outputs": [],
   "source": [
    "unable_to_malicously_swap"
   ],
   "metadata": {
    "collapsed": false,
    "pycharm": {
     "name": "#%%\n"
    }
   }
  },
  {
   "cell_type": "code",
   "execution_count": null,
   "outputs": [],
   "source": [
    "print(len(unable_to_malicously_swap))"
   ],
   "metadata": {
    "collapsed": false,
    "pycharm": {
     "name": "#%%\n"
    }
   }
  },
  {
   "cell_type": "code",
   "execution_count": null,
   "outputs": [],
   "source": [
    "mal_encoded_image_paths = encoded_image_paths\n",
    "unable_to_malicously_swap, mal_tranform_list, mal_file_paths, watermarked_l2s, mal_encoded_image_paths= image_transforms.apply_malicious_transforms(\n",
    "    mal_encoded_image_paths, target_image_paths[1:2], mal_dir)"
   ],
   "metadata": {
    "collapsed": false,
    "pycharm": {
     "name": "#%%\n"
    }
   }
  },
  {
   "cell_type": "code",
   "execution_count": null,
   "outputs": [],
   "source": [
    "unable_to_malicously_swap"
   ],
   "metadata": {
    "collapsed": false,
    "pycharm": {
     "name": "#%%\n"
    }
   }
  }
 ],
 "metadata": {
  "kernelspec": {
   "display_name": "Python 3 (ipykernel)",
   "language": "python",
   "name": "python3"
  },
  "language_info": {
   "codemirror_mode": {
    "name": "ipython",
    "version": 3
   },
   "file_extension": ".py",
   "mimetype": "text/x-python",
   "name": "python",
   "nbconvert_exporter": "python",
   "pygments_lexer": "ipython3",
   "version": "3.9.13"
  }
 },
 "nbformat": 4,
 "nbformat_minor": 5
}